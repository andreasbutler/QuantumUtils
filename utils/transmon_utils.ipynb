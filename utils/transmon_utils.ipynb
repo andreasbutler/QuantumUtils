{
 "cells": [
  {
   "cell_type": "code",
   "execution_count": 2,
   "metadata": {},
   "outputs": [],
   "source": [
    "# Transmon qubit utils"
   ]
  },
  {
   "cell_type": "code",
   "execution_count": 1,
   "metadata": {},
   "outputs": [],
   "source": [
    "import numpy as np\n",
    "from matplotlib import pyplot as plt"
   ]
  },
  {
   "cell_type": "code",
   "execution_count": 2,
   "metadata": {},
   "outputs": [],
   "source": [
    "E_c = 0.24*2*np.pi\n",
    "upper_sweet_spot_frequency = 4.456*2*np.pi\n",
    "upper_sweet_spot_bias = 490\n",
    "lower_sweet_spot_frequency = 5.284*2*np.pi\n",
    "lower_sweet_spot_bias = 129\n",
    "\n",
    "E_sum = (lower_sweet_spot_frequency / E_c + 1)**2 * E_c / 8\n",
    "E_diff = (upper_sweet_spot_frequency / E_c + 1)**2 * E_c / 8\n",
    "d = E_diff / E_sum"
   ]
  },
  {
   "cell_type": "code",
   "execution_count": 3,
   "metadata": {},
   "outputs": [],
   "source": [
    "def bias_to_flux(bias):\n",
    "    slope = np.pi/2/(upper_sweet_spot_bias \\\n",
    "                - lower_sweet_spot_bias)\n",
    "    return slope*(bias - lower_sweet_spot_bias)"
   ]
  },
  {
   "cell_type": "code",
   "execution_count": 4,
   "metadata": {},
   "outputs": [],
   "source": [
    "def flux_to_bias(flux):\n",
    "    slope = (upper_sweet_spot_bias - lower_sweet_spot_bias) / (np.pi/2)\n",
    "    return slope*(flux) + lower_sweet_spot_bias"
   ]
  },
  {
   "cell_type": "code",
   "execution_count": 5,
   "metadata": {},
   "outputs": [],
   "source": [
    "def flux_to_frequency(flux):\n",
    "    temp = E_sum*np.sqrt(np.cos(flux)**2 + d**2 * np.sin(flux)**2)\n",
    "    return E_c*(np.sqrt(8*temp/E_c) - 1)"
   ]
  },
  {
   "cell_type": "code",
   "execution_count": 6,
   "metadata": {},
   "outputs": [],
   "source": [
    "def frequency_to_flux(frequency):\n",
    "    temp = (frequency/E_c + 1)**2 * E_c/8\n",
    "    flux = np.arccos(np.sqrt(((temp / E_sum)**2 - d**2)/(1 - d**2)))\n",
    "    return flux"
   ]
  },
  {
   "cell_type": "code",
   "execution_count": 7,
   "metadata": {},
   "outputs": [
    {
     "data": {
      "text/plain": [
       "0.8354373815640448"
      ]
     },
     "execution_count": 7,
     "metadata": {},
     "output_type": "execute_result"
    }
   ],
   "source": [
    "bias_to_flux(321)"
   ]
  },
  {
   "cell_type": "code",
   "execution_count": 8,
   "metadata": {},
   "outputs": [
    {
     "data": {
      "text/plain": [
       "4.956186864409875"
      ]
     },
     "execution_count": 8,
     "metadata": {},
     "output_type": "execute_result"
    }
   ],
   "source": [
    "flux_to_frequency(bias_to_flux(-41)) / (np.pi*2)"
   ]
  },
  {
   "cell_type": "code",
   "execution_count": 9,
   "metadata": {},
   "outputs": [
    {
     "name": "stdout",
     "output_type": "stream",
     "text": [
      "246.0496294103454\n"
     ]
    }
   ],
   "source": [
    "print(flux_to_bias(frequency_to_flux(2*np.pi*5.12)))"
   ]
  },
  {
   "cell_type": "code",
   "execution_count": 10,
   "metadata": {},
   "outputs": [
    {
     "name": "stdout",
     "output_type": "stream",
     "text": [
      "5.2808603169694255\n"
     ]
    }
   ],
   "source": [
    "print(flux_to_frequency(bias_to_flux(113.14)) / (np.pi*2))"
   ]
  },
  {
   "cell_type": "code",
   "execution_count": 19,
   "metadata": {},
   "outputs": [
    {
     "name": "stdout",
     "output_type": "stream",
     "text": [
      "328.9643528652505\n"
     ]
    }
   ],
   "source": [
    "print(flux_to_bias(frequency_to_flux(2*np.pi*4.85)))"
   ]
  },
  {
   "cell_type": "code",
   "execution_count": null,
   "metadata": {},
   "outputs": [],
   "source": []
  }
 ],
 "metadata": {
  "kernelspec": {
   "display_name": "Python 3",
   "language": "python",
   "name": "python3"
  },
  "language_info": {
   "codemirror_mode": {
    "name": "ipython",
    "version": 3
   },
   "file_extension": ".py",
   "mimetype": "text/x-python",
   "name": "python",
   "nbconvert_exporter": "python",
   "pygments_lexer": "ipython3",
   "version": "3.7.4"
  }
 },
 "nbformat": 4,
 "nbformat_minor": 2
}
